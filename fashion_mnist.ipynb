{
  "nbformat": 4,
  "nbformat_minor": 5,
  "metadata": {
    "accelerator": "GPU",
    "colab": {
      "name": "fashion-mnist.ipynb",
      "provenance": [],
      "collapsed_sections": [],
      "include_colab_link": true
    },
    "kernelspec": {
      "display_name": "Python 3",
      "language": "python",
      "name": "python3"
    },
    "language_info": {
      "codemirror_mode": {
        "name": "ipython",
        "version": 3
      },
      "file_extension": ".py",
      "mimetype": "text/x-python",
      "name": "python",
      "nbconvert_exporter": "python",
      "pygments_lexer": "ipython3",
      "version": "3.8.8"
    }
  },
  "cells": [
    {
      "cell_type": "markdown",
      "metadata": {
        "id": "view-in-github",
        "colab_type": "text"
      },
      "source": [
        "<a href=\"https://colab.research.google.com/github/carinacunha/fashion-mnist/blob/main/fashion_mnist.ipynb\" target=\"_parent\"><img src=\"https://colab.research.google.com/assets/colab-badge.svg\" alt=\"Open In Colab\"/></a>"
      ]
    },
    {
      "cell_type": "markdown",
      "metadata": {
        "id": "eaf5c629-8d93-4fc7-b167-e9fd1f85655b"
      },
      "source": [
        "# <center>Challenge 2 - Fashion MNIST <center>"
      ],
      "id": "eaf5c629-8d93-4fc7-b167-e9fd1f85655b"
    },
    {
      "cell_type": "markdown",
      "metadata": {
        "id": "hwEiqwlsBQVW"
      },
      "source": [
        "![mnist](https://peltarion.com/static/fashion-mnist_long.png)"
      ],
      "id": "hwEiqwlsBQVW"
    },
    {
      "cell_type": "markdown",
      "metadata": {
        "id": "e1290ec0-3a2b-4758-9379-c36aadb8bfe1"
      },
      "source": [
        "## Step 1: Define the problem\n",
        "\n",
        "Develop an algorithm to classify clothing images in different categories. This is a classification problem that will be solved using supervised learning. \n"
      ],
      "id": "e1290ec0-3a2b-4758-9379-c36aadb8bfe1"
    },
    {
      "cell_type": "markdown",
      "metadata": {
        "id": "1836e0e8-8b17-4145-bf43-6aa6d8becbe5"
      },
      "source": [
        "## Step 2 - Gather the Data\n",
        "In this project was used a dataset called \"Fashion MNIST\". More information about the dataset was available at Keras library in the [link](https://keras.io/api/datasets/fashion_mnist/).\n"
      ],
      "id": "1836e0e8-8b17-4145-bf43-6aa6d8becbe5"
    },
    {
      "cell_type": "markdown",
      "metadata": {
        "id": "d4aa761e-9ec9-499f-84ef-67fb9fd86bf1"
      },
      "source": [
        "\n",
        "## Step 3: Prepare Data\n",
        "\n",
        "The data was provided to us from Zalando's article images, so just feature engeneering will be done."
      ],
      "id": "d4aa761e-9ec9-499f-84ef-67fb9fd86bf1"
    },
    {
      "cell_type": "markdown",
      "metadata": {
        "id": "91bf205e-0f0f-4a4f-9698-703d167e0d8d"
      },
      "source": [
        "### 3.1 Import libraries"
      ],
      "id": "91bf205e-0f0f-4a4f-9698-703d167e0d8d"
    },
    {
      "cell_type": "code",
      "metadata": {
        "id": "35cf0a2d-ebd8-4dbc-b467-32fbfa02b5e6"
      },
      "source": [
        "import tensorflow\n",
        "from tensorflow import keras\n",
        "import pandas as pd\n",
        "import matplotlib.pyplot as plt\n",
        "import numpy as np\n",
        "from tensorflow.keras.regularizers import l2"
      ],
      "id": "35cf0a2d-ebd8-4dbc-b467-32fbfa02b5e6",
      "execution_count": null,
      "outputs": []
    },
    {
      "cell_type": "markdown",
      "metadata": {
        "id": "3b231561-5df7-44c2-bf98-9cdd5d17e399"
      },
      "source": [
        "### 3.2 Meet data\n",
        "The dataset Fashion Mnist (x_train and y_train and x_test and y_test) will be import of the Keras library using the function load_data()."
      ],
      "id": "3b231561-5df7-44c2-bf98-9cdd5d17e399"
    },
    {
      "cell_type": "code",
      "metadata": {
        "id": "08e44347-5ef9-4e17-bb66-924407dcc208"
      },
      "source": [
        "# Import keras dataset (train and test datasets)\n",
        "dataset = keras.datasets.fashion_mnist\n",
        "((x_train, y_train), (x_test, y_test)) = dataset.load_data()"
      ],
      "id": "08e44347-5ef9-4e17-bb66-924407dcc208",
      "execution_count": null,
      "outputs": []
    },
    {
      "cell_type": "code",
      "metadata": {
        "colab": {
          "base_uri": "https://localhost:8080/"
        },
        "id": "cb1acce3-4241-4ad0-a077-aad8e086c445",
        "outputId": "5cae9451-ffd4-4652-bff2-b40b5b26f575"
      },
      "source": [
        "print(f'x_train: {x_train.shape[0]} images with {x_train.shape[1]}x{x_train.shape[2]} pixels')\n",
        "print(f'x_train:{len(y_train)}')\n",
        "print(f'x_test: {x_test.shape[0]} images with {x_test.shape[1]}x{x_test.shape[2]} pixels')\n",
        "print(f'y_test:{len(y_test)}')"
      ],
      "id": "cb1acce3-4241-4ad0-a077-aad8e086c445",
      "execution_count": null,
      "outputs": [
        {
          "output_type": "stream",
          "name": "stdout",
          "text": [
            "x_train: 60000 images with 28x28 pixels\n",
            "x_train:60000\n",
            "x_test: 10000 images with 28x28 pixels\n",
            "y_test:10000\n"
          ]
        }
      ]
    },
    {
      "cell_type": "code",
      "metadata": {
        "colab": {
          "base_uri": "https://localhost:8080/"
        },
        "id": "3f740de2-b539-49bb-a90e-987fd26891cc",
        "outputId": "e2e5184f-f099-40ea-ca75-0703fab16fac"
      },
      "source": [
        "print(type(y_train))\n",
        "print(f'y_train: {y_train.min()} to {y_train.max()}.')\n",
        "print(f'y_test: {y_test.min()} to {y_test.max()}.')"
      ],
      "id": "3f740de2-b539-49bb-a90e-987fd26891cc",
      "execution_count": null,
      "outputs": [
        {
          "output_type": "stream",
          "name": "stdout",
          "text": [
            "<class 'numpy.ndarray'>\n",
            "y_train: 0 to 9.\n",
            "y_test: 0 to 9.\n"
          ]
        }
      ]
    },
    {
      "cell_type": "code",
      "metadata": {
        "colab": {
          "base_uri": "https://localhost:8080/",
          "height": 240
        },
        "id": "eb424599-c0c0-447d-806d-784f58f7f7c3",
        "outputId": "6607b971-7fdd-46b7-ba8e-ed8618e5fdb6"
      },
      "source": [
        "# Visualization of the images with their labels\n",
        "for image in range(10):\n",
        "    plt.subplot(2, 5, image + 1)\n",
        "    plt.imshow(x_train[image], cmap='gray')\n",
        "    plt.title(y_train[image])"
      ],
      "id": "eb424599-c0c0-447d-806d-784f58f7f7c3",
      "execution_count": null,
      "outputs": [
        {
          "output_type": "display_data",
          "data": {
            "image/png": "[encoded data removed]",
            "text/plain": [
              "<Figure size 432x288 with 10 Axes>"
            ]
          },
          "metadata": {
            "needs_background": "light"
          }
        }
      ]
    },
    {
      "cell_type": "markdown",
      "metadata": {
        "id": "bd615dbe-715a-4cbb-bf10-336ac6f928ea"
      },
      "source": [
        "The train dataset is composed by 60000 grayscale images (2 dimensions - 2D) with 28x28 pixels. Each image has a label (y_train).\n",
        "The test dataset is composed by 10000 grayscale images with 28x28 pixels and each image has a label too. The y_train and y_test dataset are arrays formed by 10 clothes classes that are represent by a number ranging 0 to 9 as you can see above:\n",
        "\n",
        "Label|Description\n",
        ":---:|:----------:\n",
        "0|T-shirt/top\n",
        "1|Trouser\n",
        "2|Pullover\n",
        "3|Dress\n",
        "4|Coat\n",
        "5|Sandal\n",
        "6|Shirt\n",
        "7|Sneaker\n",
        "8|Bag\n",
        "9|Ankle boot"
      ],
      "id": "bd615dbe-715a-4cbb-bf10-336ac6f928ea"
    },
    {
      "cell_type": "markdown",
      "metadata": {
        "id": "d966ebfc-c758-4ae1-aa27-b325385bae66"
      },
      "source": [
        "### 3.3 Data preparation\n",
        "\n",
        "\n",
        "* Normalize the grayscale\n",
        "\n",
        "As you can see above the grayscale from 0 (black) to 255 (white). To reduce this variability and minimize the model loss, the grayscale values will be normalize."
      ],
      "id": "d966ebfc-c758-4ae1-aa27-b325385bae66"
    },
    {
      "cell_type": "code",
      "metadata": {
        "colab": {
          "base_uri": "https://localhost:8080/",
          "height": 282
        },
        "id": "e6d1ae35-598d-4bce-9c12-11e454902b08",
        "outputId": "39b5fa07-6196-4c27-bb39-b91bb35334c1"
      },
      "source": [
        "# Visualization grayscale \n",
        "plt.imshow(x_train[0], cmap='gray')\n",
        "plt.colorbar()"
      ],
      "id": "e6d1ae35-598d-4bce-9c12-11e454902b08",
      "execution_count": null,
      "outputs": [
        {
          "output_type": "execute_result",
          "data": {
            "text/plain": [
              "<matplotlib.colorbar.Colorbar at 0x7f147e7d0d50>"
            ]
          },
          "metadata": {},
          "execution_count": 6
        },
        {
          "output_type": "display_data",
          "data": {
            "image/png": "[encoded data removed]",
            "text/plain": [
              "<Figure size 432x288 with 2 Axes>"
            ]
          },
          "metadata": {
            "needs_background": "light"
          }
        }
      ]
    },
    {
      "cell_type": "code",
      "metadata": {
        "id": "5e602806-ccc8-49fb-9241-4ac7b31acce4"
      },
      "source": [
        "# Normalization of images grayscale to values between 0 and 1 \n",
        "x_train = x_train/float(255)\n",
        "x_test = x_test/float(255)"
      ],
      "id": "5e602806-ccc8-49fb-9241-4ac7b31acce4",
      "execution_count": null,
      "outputs": []
    },
    {
      "cell_type": "code",
      "metadata": {
        "colab": {
          "base_uri": "https://localhost:8080/",
          "height": 286
        },
        "id": "4c84e857-6fda-492a-a334-bd2162638244",
        "outputId": "ebbc486f-69ac-4822-d71a-24bce42e53f8"
      },
      "source": [
        "# Visualization grayscale after normalization\n",
        "plt.imshow(x_train[0], cmap = 'gray')\n",
        "plt.colorbar()"
      ],
      "id": "4c84e857-6fda-492a-a334-bd2162638244",
      "execution_count": null,
      "outputs": [
        {
          "output_type": "execute_result",
          "data": {
            "text/plain": [
              "<matplotlib.colorbar.Colorbar at 0x7f147e72a950>"
            ]
          },
          "metadata": {},
          "execution_count": 8
        },
        {
          "output_type": "display_data",
          "data": {
            "image/png": "[encoded data removed]",
            "text/plain": [
              "<Figure size 432x288 with 2 Axes>"
            ]
          },
          "metadata": {
            "needs_background": "light"
          }
        }
      ]
    },
    {
      "cell_type": "markdown",
      "metadata": {
        "id": "f636268b-3279-4ba3-8109-790f3866f88f"
      },
      "source": [
        "## Set 4. Creating the model"
      ],
      "id": "f636268b-3279-4ba3-8109-790f3866f88f"
    },
    {
      "cell_type": "markdown",
      "metadata": {
        "id": "58d9614e-9ce5-4c0e-8e50-c7010c1f2d40"
      },
      "source": [
        "The algorithm used to solve this classification problem will be a specific type of neural network commonly used for image classification, the Convolucional Neural Network (CNN). The CNN will formed by two parts:\n",
        "* First part: convolutional layers to make feature extraction and transformation\n",
        "* Second part: multilayer perceptron that will find patterns in the images and classify them.\n"
      ],
      "id": "58d9614e-9ce5-4c0e-8e50-c7010c1f2d40"
    },
    {
      "cell_type": "markdown",
      "metadata": {
        "id": "afd1c33c-8e73-40f4-8a04-f451747a4b98"
      },
      "source": [
        "### 4.1 Reshape train and test dataset to a format batch_shape + (rows, cols, channels)"
      ],
      "id": "afd1c33c-8e73-40f4-8a04-f451747a4b98"
    },
    {
      "cell_type": "code",
      "metadata": {
        "colab": {
          "base_uri": "https://localhost:8080/"
        },
        "id": "d6d8abaf-ef55-4808-a45c-53ad21a09c61",
        "outputId": "077675d5-8a4d-411f-eacc-3ab566d4d80c"
      },
      "source": [
        "#Visualization x_train and x_test dataset shape\n",
        "print(x_train[0].shape)\n",
        "print(x_test[0].shape)"
      ],
      "id": "d6d8abaf-ef55-4808-a45c-53ad21a09c61",
      "execution_count": null,
      "outputs": [
        {
          "output_type": "stream",
          "name": "stdout",
          "text": [
            "(28, 28)\n",
            "(28, 28)\n"
          ]
        }
      ]
    },
    {
      "cell_type": "markdown",
      "metadata": {
        "id": "131e944d-a35f-4717-8368-593140fefaea"
      },
      "source": [
        "To create the CNN we will use the Keras function Conv2D. This function expects input data format with four dimensions (batch_shape, rows, cols, channels). Before create the model, we need reshape the data to this format."
      ],
      "id": "131e944d-a35f-4717-8368-593140fefaea"
    },
    {
      "cell_type": "code",
      "metadata": {
        "colab": {
          "base_uri": "https://localhost:8080/"
        },
        "id": "d8b6f895-05da-4de9-ad62-528f6a3f76aa",
        "outputId": "5bbbbb2c-a9a7-4f75-d800-776346788b36"
      },
      "source": [
        "# Add the dimension channel in input_shape\n",
        "sample_shape = x_train[0].shape\n",
        "img_width, img_height = sample_shape[0], sample_shape[1]\n",
        "input_shape = (img_width, img_height, 1)\n",
        "input_shape"
      ],
      "id": "d8b6f895-05da-4de9-ad62-528f6a3f76aa",
      "execution_count": null,
      "outputs": [
        {
          "output_type": "execute_result",
          "data": {
            "text/plain": [
              "(28, 28, 1)"
            ]
          },
          "metadata": {},
          "execution_count": 10
        }
      ]
    },
    {
      "cell_type": "code",
      "metadata": {
        "colab": {
          "base_uri": "https://localhost:8080/"
        },
        "id": "2624e382-b9ec-4929-b027-afc3d15c585b",
        "outputId": "11748f0a-028e-42c1-c60a-02f7a926d2db"
      },
      "source": [
        "# Add the batch_shape in input_shape\n",
        "x_train = x_train.reshape(len(x_train), input_shape[0], input_shape[1], input_shape[2])\n",
        "x_test  = x_test.reshape(len(x_test), input_shape[0], input_shape[1], input_shape[2])\n",
        "print(x_train.shape)\n",
        "print(x_test.shape)"
      ],
      "id": "2624e382-b9ec-4929-b027-afc3d15c585b",
      "execution_count": null,
      "outputs": [
        {
          "output_type": "stream",
          "name": "stdout",
          "text": [
            "(60000, 28, 28, 1)\n",
            "(10000, 28, 28, 1)\n"
          ]
        }
      ]
    },
    {
      "cell_type": "markdown",
      "metadata": {
        "id": "bed9cfbd-29fe-4772-91e2-7c0e2d2c3092"
      },
      "source": [
        "### 4.2 Create the CNN\n",
        "\n",
        "Considering that neural networks are complex models and prone to overfitting, we will use some regularization techniques to avoid it, like:\n",
        "\n",
        "* [L2 regularization](https://en.wikipedia.org/wiki/Tikhonov_regularization)\n",
        "* [Dropout](https://en.wikipedia.org/wiki/Dilution_(neural_networks)\n",
        "* [Early stopping](https://en.wikipedia.org/wiki/Early_stopping) "
      ],
      "id": "bed9cfbd-29fe-4772-91e2-7c0e2d2c3092"
    },
    {
      "cell_type": "code",
      "metadata": {
        "id": "18449a13-c0b7-450f-a765-3b9665775c97"
      },
      "source": [
        "# First part: Convolutional neural network\n",
        "model = keras.Sequential([\n",
        "    \n",
        "    keras.layers.Conv2D(filters = 256, kernel_size = (3,3), padding = 'same',\n",
        "    activation = 'relu', input_shape = input_shape, data_format = 'channels_last',\n",
        "    kernel_regularizer = l2 (0.0003)),\n",
        "\n",
        "    keras.layers.Conv2D(filters = 124, kernel_size = (3,3), padding = 'same',\n",
        "    activation = 'relu',  kernel_regularizer = l2 (0.0003)),\n",
        "\n",
        "    keras.layers.Conv2D(filters = 64, kernel_size = (3,3), padding = 'same',\n",
        "    activation = 'relu',  kernel_regularizer = l2 (0.0003)),\n",
        "\n",
        "    keras.layers.Conv2D(filters = 32, kernel_size = (3,3), padding = 'same',\n",
        "    activation = 'relu',  kernel_regularizer = l2 (0.0003)),\n",
        "    keras.layers.Dropout(0.25),\n",
        "\n",
        "    keras.layers.MaxPooling2D(pool_size=(2, 2)),\n",
        "    \n",
        "    keras.layers.Flatten(),\n",
        "    \n",
        "# Second part: Multilayer perceptron\n",
        "    keras.layers.Dense(128, activation = 'relu',  kernel_regularizer = l2 (0.0001)),\n",
        "    keras.layers.Dense(64, activation = 'relu', kernel_regularizer = l2 (0.0001)),\n",
        "    keras.layers.Dropout(0.25),\n",
        "    keras.layers.Dense(10, activation = 'softmax',  kernel_regularizer = l2 (0.0001))])"
      ],
      "id": "18449a13-c0b7-450f-a765-3b9665775c97",
      "execution_count": null,
      "outputs": []
    },
    {
      "cell_type": "code",
      "metadata": {
        "id": "91e0f36a-89bc-4037-bf01-160773c863df"
      },
      "source": [
        "# Compile the model\n",
        "optimizer = keras.optimizers.Adam(learning_rate = 0.001)\n",
        "model.compile(optimizer = optimizer, loss = 'sparse_categorical_crossentropy', metrics = 'accuracy')"
      ],
      "id": "91e0f36a-89bc-4037-bf01-160773c863df",
      "execution_count": null,
      "outputs": []
    },
    {
      "cell_type": "code",
      "metadata": {
        "colab": {
          "base_uri": "https://localhost:8080/"
        },
        "id": "b8bfce44-686a-40ab-838f-f86bc9b8c9e9",
        "outputId": "39804552-664c-4327-c93d-9732bb5f2e57"
      },
      "source": [
        "model.summary()"
      ],
      "id": "b8bfce44-686a-40ab-838f-f86bc9b8c9e9",
      "execution_count": null,
      "outputs": [
        {
          "output_type": "stream",
          "name": "stdout",
          "text": [
            "Model: \"sequential_5\"\n",
            "_________________________________________________________________\n",
            " Layer (type)                Output Shape              Param #   \n",
            "=================================================================\n",
            " conv2d_20 (Conv2D)          (None, 28, 28, 256)       2560      \n",
            "                                                                 \n",
            " conv2d_21 (Conv2D)          (None, 28, 28, 124)       285820    \n",
            "                                                                 \n",
            " conv2d_22 (Conv2D)          (None, 28, 28, 64)        71488     \n",
            "                                                                 \n",
            " conv2d_23 (Conv2D)          (None, 28, 28, 32)        18464     \n",
            "                                                                 \n",
            " dropout_9 (Dropout)         (None, 28, 28, 32)        0         \n",
            "                                                                 \n",
            " max_pooling2d_5 (MaxPooling  (None, 14, 14, 32)       0         \n",
            " 2D)                                                             \n",
            "                                                                 \n",
            " flatten_5 (Flatten)         (None, 6272)              0         \n",
            "                                                                 \n",
            " dense_17 (Dense)            (None, 128)               802944    \n",
            "                                                                 \n",
            " dense_18 (Dense)            (None, 64)                8256      \n",
            "                                                                 \n",
            " dropout_10 (Dropout)        (None, 64)                0         \n",
            "                                                                 \n",
            " dense_19 (Dense)            (None, 10)                650       \n",
            "                                                                 \n",
            "=================================================================\n",
            "Total params: 1,190,182\n",
            "Trainable params: 1,190,182\n",
            "Non-trainable params: 0\n",
            "_________________________________________________________________\n"
          ]
        }
      ]
    },
    {
      "cell_type": "code",
      "metadata": {
        "colab": {
          "base_uri": "https://localhost:8080/"
        },
        "id": "1b93c203-6d09-4b84-80f5-d49fe0b13233",
        "outputId": "a4ec1c51-5ffb-491a-9bf8-1a02bc8b2847"
      },
      "source": [
        "# Stop training when a monitored metric has stopped improving and save the best model\n",
        "callbacks = [keras.callbacks.EarlyStopping(monitor = 'val_loss', patience = 1),\n",
        "            keras.callbacks.ModelCheckpoint(filepath = 'best_model.hdf5',\n",
        "                                            monitor = 'val_loss', save_best_only = True)]\n",
        "\n",
        "# Train the model and validation\n",
        "history = model.fit(x_train, y_train, epochs = 6,\n",
        "                    validation_split = 0.15, callbacks = callbacks)"
      ],
      "id": "1b93c203-6d09-4b84-80f5-d49fe0b13233",
      "execution_count": null,
      "outputs": [
        {
          "output_type": "stream",
          "name": "stdout",
          "text": [
            "Epoch 1/6\n",
            "1594/1594 [==============================] - 50s 31ms/step - loss: 0.5061 - accuracy: 0.8420 - val_loss: 0.3615 - val_accuracy: 0.8914\n",
            "Epoch 2/6\n",
            "1594/1594 [==============================] - 49s 30ms/step - loss: 0.3471 - accuracy: 0.9006 - val_loss: 0.3515 - val_accuracy: 0.8986\n",
            "Epoch 3/6\n",
            "1594/1594 [==============================] - 48s 30ms/step - loss: 0.3120 - accuracy: 0.9152 - val_loss: 0.3096 - val_accuracy: 0.9181\n",
            "Epoch 4/6\n",
            "1594/1594 [==============================] - 48s 30ms/step - loss: 0.2961 - accuracy: 0.9223 - val_loss: 0.3064 - val_accuracy: 0.9189\n",
            "Epoch 5/6\n",
            "1594/1594 [==============================] - 48s 30ms/step - loss: 0.2798 - accuracy: 0.9285 - val_loss: 0.3115 - val_accuracy: 0.9217\n"
          ]
        }
      ]
    },
    {
      "cell_type": "code",
      "metadata": {
        "colab": {
          "base_uri": "https://localhost:8080/",
          "height": 367
        },
        "id": "27ca2b0f-fc46-455b-8a2c-83c72c9d037e",
        "outputId": "b22a673c-1222-4a5e-9b52-64131586defe"
      },
      "source": [
        "# Accuracy visualization\n",
        "fig, axes = plt.subplots(1, 2, figsize = (12, 5), sharey=True)\n",
        "\n",
        "plt.subplot(121)\n",
        "plt.title('Model accuracy')\n",
        "plt.xlabel('Epochs')\n",
        "plt.ylabel('Accuracy (%)')\n",
        "plt.plot(history.history['accuracy'])\n",
        "plt.plot(history.history['val_accuracy'])\n",
        "plt.legend(['Train', 'Validation'])\n",
        "\n",
        "# Loss vizualization\n",
        "plt.subplot(122)\n",
        "plt.title('Model loss')\n",
        "plt.xlabel('Epochs')\n",
        "plt.ylabel('Loss')\n",
        "plt.plot(history.history['loss'])\n",
        "plt.plot(history.history['val_loss'])\n",
        "plt.legend(['Train', 'Validation'])"
      ],
      "id": "27ca2b0f-fc46-455b-8a2c-83c72c9d037e",
      "execution_count": null,
      "outputs": [
        {
          "output_type": "execute_result",
          "data": {
            "text/plain": [
              "<matplotlib.legend.Legend at 0x7f138fb5e890>"
            ]
          },
          "metadata": {},
          "execution_count": 53
        },
        {
          "output_type": "display_data",
          "data": {
            "image/png": "[encoded data removed]",
            "text/plain": [
              "<Figure size 864x360 with 2 Axes>"
            ]
          },
          "metadata": {
            "needs_background": "light"
          }
        }
      ]
    },
    {
      "cell_type": "markdown",
      "metadata": {
        "id": "8934908e-d2a8-4eb4-ac76-f106be545a72"
      },
      "source": [
        "## Step 5: Predict\n"
      ],
      "id": "8934908e-d2a8-4eb4-ac76-f106be545a72"
    },
    {
      "cell_type": "code",
      "metadata": {
        "id": "967ca3d0-353f-4995-b982-2e067f76d529"
      },
      "source": [
        "# Predict the classification of the x_test dataset\n",
        "test = model.predict(x_test)"
      ],
      "id": "967ca3d0-353f-4995-b982-2e067f76d529",
      "execution_count": null,
      "outputs": []
    },
    {
      "cell_type": "code",
      "metadata": {
        "colab": {
          "base_uri": "https://localhost:8080/"
        },
        "id": "6d82718d-ed19-4759-a4b7-88bf238055d3",
        "outputId": "354049a3-2bbf-45bb-bb6e-eb42b1fdc0d5"
      },
      "source": [
        "# Metric and loss visualization\n",
        "test_loss, test_accuracy = model.evaluate(x_test, y_test)\n",
        "print(f'Test loss: {test_loss}')\n",
        "print(f'Test accuracy: {test_accuracy}')"
      ],
      "id": "6d82718d-ed19-4759-a4b7-88bf238055d3",
      "execution_count": null,
      "outputs": [
        {
          "output_type": "stream",
          "name": "stdout",
          "text": [
            "313/313 [==============================] - 4s 11ms/step - loss: 0.3219 - accuracy: 0.9142\n",
            "Test loss: 0.3218931257724762\n",
            "Test accuracy: 0.9142000079154968\n"
          ]
        }
      ]
    },
    {
      "cell_type": "markdown",
      "metadata": {
        "id": "utSCfcaR2vif"
      },
      "source": [
        "## Step 6: Conclusion\n",
        "This notebook implemeted one possible solution for dataset \"Fashion MNIST\" using neural networks. The data were processed and visualized. Than a convolucional neural network was built to classify the clothes images. To improve those results and reduce the possible overfitting, regularization techniques were used and the model accuracy in test dataset was 91%.\n"
      ],
      "id": "utSCfcaR2vif"
    }
  ]
}